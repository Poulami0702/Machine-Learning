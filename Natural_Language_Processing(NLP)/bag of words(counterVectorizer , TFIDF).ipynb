{
 "cells": [
  {
   "cell_type": "code",
   "execution_count": 1,
   "metadata": {},
   "outputs": [],
   "source": [
    "import nltk\n"
   ]
  },
  {
   "cell_type": "code",
   "execution_count": 4,
   "metadata": {},
   "outputs": [],
   "source": [
    "from nltk.stem.porter import PorterStemmer\n",
    "\n",
    "from nltk.stem import WordNetLemmatizer\n",
    "\n",
    "import re\n",
    "\n",
    "from nltk.corpus import stopwords"
   ]
  },
  {
   "cell_type": "code",
   "execution_count": 5,
   "metadata": {},
   "outputs": [],
   "source": [
    "para=\"\"\"One day, a poor boy who was selling goods from door to door to pay his way through school, found he had only one thin dime left, and he was hungry.\n",
    "\n",
    "He decided he would ask for a meal at the next house. However, he lost his nerve when a lovely young woman opened the door. Instead of a meal he asked for a drink of water. She thought he looked hungry so brought him a large glass of milk. He drank it slowly, and then asked, “How much do I owe you?”\n",
    "\n",
    "“You don’t owe me anything,” she replied “Mother has taught us never to accept payment for a kindness.” He said… “Then I thank you from my heart.” His name was Howard Kelly.\n",
    "\n",
    "As Howard Kelly left that house, he not only felt; stronger physically, but his faith in God and man was strong also. He had been ready to give up and quit.\n",
    "\n",
    "Years later that young woman became critically ill. The local doctors were baffled. They finally sent her to the big city, where they called in specialists to study her rare disease. Dr. Howard Kelly was called in for the consultation. When he heard the name of the town she came from, a strange light filled his eyes.\n",
    "\n",
    "Immediately he rose and went down the hall of the hospital to her room. Dressed in his doctor’s gown he we nt in to see her. He recognized her at once. He went back to the consultation room determined to do his best to save her life. From that day he gave special attention to the case.\n",
    "\n",
    "After a long struggle, the battle was won. Dr. Kelly requested the business office to pass the final bill to him for approval. He looked at it, then wrote something on the edge and the bill was sent to her room.\"\"\""
   ]
  },
  {
   "cell_type": "code",
   "execution_count": 6,
   "metadata": {},
   "outputs": [
    {
     "data": {
      "text/plain": [
       "['One day, a poor boy who was selling goods from door to door to pay his way through school, found he had only one thin dime left, and he was hungry.',\n",
       " 'He decided he would ask for a meal at the next house.',\n",
       " 'However, he lost his nerve when a lovely young woman opened the door.',\n",
       " 'Instead of a meal he asked for a drink of water.',\n",
       " 'She thought he looked hungry so brought him a large glass of milk.',\n",
       " 'He drank it slowly, and then asked, “How much do I owe you?”\\n\\n“You don’t owe me anything,” she replied “Mother has taught us never to accept payment for a kindness.” He said… “Then I thank you from my heart.” His name was Howard Kelly.',\n",
       " 'As Howard Kelly left that house, he not only felt; stronger physically, but his faith in God and man was strong also.',\n",
       " 'He had been ready to give up and quit.',\n",
       " 'Years later that young woman became critically ill.',\n",
       " 'The local doctors were baffled.',\n",
       " 'They finally sent her to the big city, where they called in specialists to study her rare disease.',\n",
       " 'Dr. Howard Kelly was called in for the consultation.',\n",
       " 'When he heard the name of the town she came from, a strange light filled his eyes.',\n",
       " 'Immediately he rose and went down the hall of the hospital to her room.',\n",
       " 'Dressed in his doctor’s gown he we nt in to see her.',\n",
       " 'He recognized her at once.',\n",
       " 'He went back to the consultation room determined to do his best to save her life.',\n",
       " 'From that day he gave special attention to the case.',\n",
       " 'After a long struggle, the battle was won.',\n",
       " 'Dr. Kelly requested the business office to pass the final bill to him for approval.',\n",
       " 'He looked at it, then wrote something on the edge and the bill was sent to her room.']"
      ]
     },
     "execution_count": 6,
     "metadata": {},
     "output_type": "execute_result"
    }
   ],
   "source": [
    "sentences=nltk.sent_tokenize(para)\n",
    "sentences"
   ]
  },
  {
   "cell_type": "code",
   "execution_count": 11,
   "metadata": {},
   "outputs": [],
   "source": [
    "ps=PorterStemmer()\n",
    "\n",
    "\n",
    "corpus_stem=[]\n",
    "for i in range(len(sentences)):\n",
    "    review=re.sub('[^a-zA-Z]' ,' ',sentences[i])\n",
    "    review=review.lower()\n",
    "    review=review.split()\n",
    "    review=[ps.stem(word)  for word in review if word not in set(stopwords.words('english'))]\n",
    "    review=' '.join(review)\n",
    "    corpus_stem.append(review)"
   ]
  },
  {
   "cell_type": "code",
   "execution_count": 12,
   "metadata": {},
   "outputs": [
    {
     "data": {
      "text/plain": [
       "['one day poor boy sell good door door pay way school found one thin dime left hungri',\n",
       " 'decid would ask meal next hous',\n",
       " 'howev lost nerv love young woman open door',\n",
       " 'instead meal ask drink water',\n",
       " 'thought look hungri brought larg glass milk',\n",
       " 'drank slowli ask much owe owe anyth repli mother taught us never accept payment kind said thank heart name howard kelli',\n",
       " 'howard kelli left hous felt stronger physic faith god man strong also',\n",
       " 'readi give quit',\n",
       " 'year later young woman becam critic ill',\n",
       " 'local doctor baffl',\n",
       " 'final sent big citi call specialist studi rare diseas',\n",
       " 'dr howard kelli call consult',\n",
       " 'heard name town came strang light fill eye',\n",
       " 'immedi rose went hall hospit room',\n",
       " 'dress doctor gown nt see',\n",
       " 'recogn',\n",
       " 'went back consult room determin best save life',\n",
       " 'day gave special attent case',\n",
       " 'long struggl battl',\n",
       " 'dr kelli request busi offic pass final bill approv',\n",
       " 'look wrote someth edg bill sent room']"
      ]
     },
     "execution_count": 12,
     "metadata": {},
     "output_type": "execute_result"
    }
   ],
   "source": [
    "corpus_stem"
   ]
  },
  {
   "cell_type": "code",
   "execution_count": 13,
   "metadata": {},
   "outputs": [],
   "source": [
    "lem=WordNetLemmatizer()\n",
    "\n",
    "corpus_lem=[]\n",
    "for j in range(len(sentences)):\n",
    "    review=re.sub('[^a-zA-Z]',' ',sentences[j])\n",
    "    review=review.lower()\n",
    "    review=review.split()\n",
    "    review=[lem.lemmatize(word)  for word in review if word not in set(stopwords.words('english'))]\n",
    "    review=' '.join(review)\n",
    "    corpus_lem.append(review)"
   ]
  },
  {
   "cell_type": "code",
   "execution_count": 14,
   "metadata": {},
   "outputs": [
    {
     "data": {
      "text/plain": [
       "['one day poor boy selling good door door pay way school found one thin dime left hungry',\n",
       " 'decided would ask meal next house',\n",
       " 'however lost nerve lovely young woman opened door',\n",
       " 'instead meal asked drink water',\n",
       " 'thought looked hungry brought large glass milk',\n",
       " 'drank slowly asked much owe owe anything replied mother taught u never accept payment kindness said thank heart name howard kelly',\n",
       " 'howard kelly left house felt stronger physically faith god man strong also',\n",
       " 'ready give quit',\n",
       " 'year later young woman became critically ill',\n",
       " 'local doctor baffled',\n",
       " 'finally sent big city called specialist study rare disease',\n",
       " 'dr howard kelly called consultation',\n",
       " 'heard name town came strange light filled eye',\n",
       " 'immediately rose went hall hospital room',\n",
       " 'dressed doctor gown nt see',\n",
       " 'recognized',\n",
       " 'went back consultation room determined best save life',\n",
       " 'day gave special attention case',\n",
       " 'long struggle battle',\n",
       " 'dr kelly requested business office pas final bill approval',\n",
       " 'looked wrote something edge bill sent room']"
      ]
     },
     "execution_count": 14,
     "metadata": {},
     "output_type": "execute_result"
    }
   ],
   "source": [
    "corpus_lem"
   ]
  },
  {
   "cell_type": "markdown",
   "metadata": {},
   "source": [
    "# creating bags of words using CountVectorizer"
   ]
  },
  {
   "cell_type": "code",
   "execution_count": 15,
   "metadata": {},
   "outputs": [],
   "source": [
    "from sklearn.feature_extraction.text import CountVectorizer\n",
    "CV=CountVectorizer()\n",
    "x_lem=CV.fit_transform(corpus_lem).toarray()"
   ]
  },
  {
   "cell_type": "code",
   "execution_count": 16,
   "metadata": {},
   "outputs": [
    {
     "data": {
      "text/plain": [
       "array([[0, 0, 0, ..., 0, 0, 0],\n",
       "       [0, 0, 0, ..., 0, 0, 0],\n",
       "       [0, 0, 0, ..., 0, 0, 1],\n",
       "       ...,\n",
       "       [0, 0, 0, ..., 0, 0, 0],\n",
       "       [0, 0, 0, ..., 0, 0, 0],\n",
       "       [0, 0, 0, ..., 1, 0, 0]], dtype=int64)"
      ]
     },
     "execution_count": 16,
     "metadata": {},
     "output_type": "execute_result"
    }
   ],
   "source": [
    "x_lem"
   ]
  },
  {
   "cell_type": "code",
   "execution_count": 17,
   "metadata": {},
   "outputs": [
    {
     "data": {
      "text/plain": [
       "(21, 126)"
      ]
     },
     "execution_count": 17,
     "metadata": {},
     "output_type": "execute_result"
    }
   ],
   "source": [
    "x_lem.shape"
   ]
  },
  {
   "cell_type": "code",
   "execution_count": 18,
   "metadata": {},
   "outputs": [],
   "source": [
    "x_stem=CV.fit_transform(corpus_stem).toarray()"
   ]
  },
  {
   "cell_type": "code",
   "execution_count": 19,
   "metadata": {},
   "outputs": [
    {
     "data": {
      "text/plain": [
       "array([[0, 0, 0, ..., 0, 0, 0],\n",
       "       [0, 0, 0, ..., 0, 0, 0],\n",
       "       [0, 0, 0, ..., 0, 0, 1],\n",
       "       ...,\n",
       "       [0, 0, 0, ..., 0, 0, 0],\n",
       "       [0, 0, 0, ..., 0, 0, 0],\n",
       "       [0, 0, 0, ..., 1, 0, 0]], dtype=int64)"
      ]
     },
     "execution_count": 19,
     "metadata": {},
     "output_type": "execute_result"
    }
   ],
   "source": [
    "x_stem"
   ]
  },
  {
   "cell_type": "code",
   "execution_count": 20,
   "metadata": {},
   "outputs": [
    {
     "data": {
      "text/plain": [
       "(21, 125)"
      ]
     },
     "execution_count": 20,
     "metadata": {},
     "output_type": "execute_result"
    }
   ],
   "source": [
    "x_stem.shape"
   ]
  },
  {
   "cell_type": "markdown",
   "metadata": {},
   "source": [
    "# Creating bag of words using TDIF"
   ]
  },
  {
   "cell_type": "code",
   "execution_count": 21,
   "metadata": {},
   "outputs": [
    {
     "data": {
      "text/plain": [
       "array([[0.        , 0.        , 0.        , ..., 0.        , 0.        ,\n",
       "        0.        ],\n",
       "       [0.        , 0.        , 0.        , ..., 0.        , 0.        ,\n",
       "        0.        ],\n",
       "       [0.        , 0.        , 0.        , ..., 0.        , 0.        ,\n",
       "        0.32535569],\n",
       "       ...,\n",
       "       [0.        , 0.        , 0.        , ..., 0.        , 0.        ,\n",
       "        0.        ],\n",
       "       [0.        , 0.        , 0.        , ..., 0.        , 0.        ,\n",
       "        0.        ],\n",
       "       [0.        , 0.        , 0.        , ..., 0.40960308, 0.        ,\n",
       "        0.        ]])"
      ]
     },
     "execution_count": 21,
     "metadata": {},
     "output_type": "execute_result"
    }
   ],
   "source": [
    "from sklearn.feature_extraction.text import TfidfVectorizer\n",
    "tf=TfidfVectorizer()\n",
    "tfidf_lem=tf.fit_transform(corpus_lem).toarray()\n",
    "tfidf_lem"
   ]
  },
  {
   "cell_type": "code",
   "execution_count": 22,
   "metadata": {},
   "outputs": [
    {
     "data": {
      "text/plain": [
       "array([[0.        , 0.        , 0.        , ..., 0.        , 0.        ,\n",
       "        0.        ],\n",
       "       [0.        , 0.        , 0.        , ..., 0.        , 0.        ,\n",
       "        0.        ],\n",
       "       [0.        , 0.        , 0.        , ..., 0.        , 0.        ,\n",
       "        0.32535569],\n",
       "       ...,\n",
       "       [0.        , 0.        , 0.        , ..., 0.        , 0.        ,\n",
       "        0.        ],\n",
       "       [0.        , 0.        , 0.        , ..., 0.        , 0.        ,\n",
       "        0.        ],\n",
       "       [0.        , 0.        , 0.        , ..., 0.40960308, 0.        ,\n",
       "        0.        ]])"
      ]
     },
     "execution_count": 22,
     "metadata": {},
     "output_type": "execute_result"
    }
   ],
   "source": [
    "tfidf_stem=tf.fit_transform(corpus_stem).toarray()\n",
    "tfidf_stem"
   ]
  },
  {
   "cell_type": "code",
   "execution_count": null,
   "metadata": {},
   "outputs": [],
   "source": []
  }
 ],
 "metadata": {
  "kernelspec": {
   "display_name": "Python 3",
   "language": "python",
   "name": "python3"
  },
  "language_info": {
   "codemirror_mode": {
    "name": "ipython",
    "version": 3
   },
   "file_extension": ".py",
   "mimetype": "text/x-python",
   "name": "python",
   "nbconvert_exporter": "python",
   "pygments_lexer": "ipython3",
   "version": "3.6.5"
  }
 },
 "nbformat": 4,
 "nbformat_minor": 2
}
