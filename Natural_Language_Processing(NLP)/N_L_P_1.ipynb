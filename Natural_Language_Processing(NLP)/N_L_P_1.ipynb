{
 "cells": [
  {
   "cell_type": "code",
   "execution_count": 5,
   "metadata": {},
   "outputs": [
    {
     "data": {
      "text/plain": [
       "<_sre.SRE_Match object; span=(0, 5), match='Tiger'>"
      ]
     },
     "execution_count": 5,
     "metadata": {},
     "output_type": "execute_result"
    }
   ],
   "source": [
    "import re\n",
    "\n",
    "String=\"Tiger is a national animal\"\n",
    "pattern=\"Tiger\"\n",
    "\n",
    "mo=re.match(pattern,String)\n",
    "mo\n",
    "#match() is only used to search object from the first occourance"
   ]
  },
  {
   "cell_type": "code",
   "execution_count": 6,
   "metadata": {},
   "outputs": [
    {
     "data": {
      "text/plain": [
       "'Tiger'"
      ]
     },
     "execution_count": 6,
     "metadata": {},
     "output_type": "execute_result"
    }
   ],
   "source": [
    "mo.group(0)"
   ]
  },
  {
   "cell_type": "code",
   "execution_count": 9,
   "metadata": {},
   "outputs": [
    {
     "name": "stdout",
     "output_type": "stream",
     "text": [
      "None\n"
     ]
    }
   ],
   "source": [
    "String=\"Tiger is a national animal\"\n",
    "pattern=\"Lion\"\n",
    "\n",
    "mo=re.match(pattern,String)\n",
    "print(mo)"
   ]
  },
  {
   "cell_type": "code",
   "execution_count": 10,
   "metadata": {},
   "outputs": [
    {
     "name": "stdout",
     "output_type": "stream",
     "text": [
      "None\n"
     ]
    }
   ],
   "source": [
    "String=\"The  national animal is tiger\"\n",
    "pattern=\"Tiger\"\n",
    "\n",
    "mo=re.match(pattern,String)\n",
    "print(mo)\n",
    "#coz match function is only used to search the first occurance"
   ]
  },
  {
   "cell_type": "code",
   "execution_count": 12,
   "metadata": {},
   "outputs": [
    {
     "data": {
      "text/plain": [
       "['national', 'national']"
      ]
     },
     "execution_count": 12,
     "metadata": {},
     "output_type": "execute_result"
    }
   ],
   "source": [
    "s=\"The national animal is tiger and the national sports is cricket\"\n",
    "pattern=\"national\"\n",
    "\n",
    "re.findall(pattern,s)\n",
    "\n",
    "#re.findall() is used to find all the occurance from the string"
   ]
  },
  {
   "cell_type": "code",
   "execution_count": 14,
   "metadata": {},
   "outputs": [
    {
     "name": "stdout",
     "output_type": "stream",
     "text": [
      "<_sre.SRE_Match object; span=(4, 12), match='national'>\n"
     ]
    }
   ],
   "source": [
    "s=\"The national animal is tiger and the national sports is cricket\"\n",
    "pattern=\"national\"\n",
    "\n",
    "mo=re.search(pattern,s)\n",
    "print(mo)\n",
    "\n",
    "#search function is used to search the pattern from all the string"
   ]
  },
  {
   "cell_type": "code",
   "execution_count": 16,
   "metadata": {},
   "outputs": [
    {
     "data": {
      "text/plain": [
       "<_sre.SRE_Match object; span=(4, 12), match='national'>"
      ]
     },
     "execution_count": 16,
     "metadata": {},
     "output_type": "execute_result"
    }
   ],
   "source": [
    "s=\"The national animal is tiger\"\n",
    "pattern=\"national\"\n",
    "\n",
    "re.search(pattern,s)"
   ]
  },
  {
   "cell_type": "code",
   "execution_count": 18,
   "metadata": {},
   "outputs": [
    {
     "name": "stdout",
     "output_type": "stream",
     "text": [
      "4\n",
      "37\n"
     ]
    }
   ],
   "source": [
    "s=\"The national animal is tiger and the national sports is cricket\"\n",
    "pattern=\"national\"\n",
    "\n",
    "re.findall(pattern,s)\n",
    "\n",
    "mo=re.finditer(pattern,s)\n",
    "\n",
    "#finditer() is used to check the index from the string\n",
    "\n",
    "for m in mo:\n",
    "    print(m.start())"
   ]
  },
  {
   "cell_type": "code",
   "execution_count": 19,
   "metadata": {},
   "outputs": [
    {
     "data": {
      "text/plain": [
       "['12-08-1998', '21-06-2000']"
      ]
     },
     "execution_count": 19,
     "metadata": {},
     "output_type": "execute_result"
    }
   ],
   "source": [
    "s=\"Ron was bron on 12-08-1998 and was admitted to school on 21-06-2000\"\n",
    "pattern='\\d{2}-\\d{2}-\\d{4}'\n",
    "\n",
    "re.findall(pattern,s)"
   ]
  },
  {
   "cell_type": "code",
   "execution_count": 21,
   "metadata": {},
   "outputs": [
    {
     "name": "stdout",
     "output_type": "stream",
     "text": [
      "Ron was bron on Monday and was admitted to school on Monday\n"
     ]
    }
   ],
   "source": [
    "#sub() is used to find and replace the pattern from the given string\n",
    "mo=re.sub(pattern, \"Monday\" ,s )\n",
    "print(mo)"
   ]
  },
  {
   "cell_type": "code",
   "execution_count": 25,
   "metadata": {},
   "outputs": [
    {
     "data": {
      "text/plain": [
       "[1, 2, 3, 5, 6, 7, 8, 4]"
      ]
     },
     "execution_count": 25,
     "metadata": {},
     "output_type": "execute_result"
    }
   ],
   "source": [
    "m=[1,2,3,4,5,6,7,8,4]\n",
    "m.remove(4)\n",
    "m"
   ]
  },
  {
   "cell_type": "code",
   "execution_count": 24,
   "metadata": {},
   "outputs": [
    {
     "data": {
      "text/plain": [
       "[1, 2, 3, 9, 6, 7, 8]"
      ]
     },
     "execution_count": 24,
     "metadata": {},
     "output_type": "execute_result"
    }
   ],
   "source": [
    "m=[1,2,3,9,5,6,7,8]\n",
    "m.remove(m[4])\n",
    "m"
   ]
  },
  {
   "cell_type": "code",
   "execution_count": null,
   "metadata": {},
   "outputs": [],
   "source": []
  }
 ],
 "metadata": {
  "kernelspec": {
   "display_name": "Python 3",
   "language": "python",
   "name": "python3"
  },
  "language_info": {
   "codemirror_mode": {
    "name": "ipython",
    "version": 3
   },
   "file_extension": ".py",
   "mimetype": "text/x-python",
   "name": "python",
   "nbconvert_exporter": "python",
   "pygments_lexer": "ipython3",
   "version": "3.6.5"
  }
 },
 "nbformat": 4,
 "nbformat_minor": 2
}
