{
 "cells": [
  {
   "cell_type": "code",
   "execution_count": 1,
   "metadata": {},
   "outputs": [],
   "source": [
    "import nltk"
   ]
  },
  {
   "cell_type": "code",
   "execution_count": 2,
   "metadata": {},
   "outputs": [
    {
     "name": "stdout",
     "output_type": "stream",
     "text": [
      "showing info https://raw.githubusercontent.com/nltk/nltk_data/gh-pages/index.xml\n"
     ]
    },
    {
     "data": {
      "text/plain": [
       "True"
      ]
     },
     "execution_count": 2,
     "metadata": {},
     "output_type": "execute_result"
    }
   ],
   "source": [
    "nltk.download()"
   ]
  },
  {
   "cell_type": "code",
   "execution_count": 3,
   "metadata": {},
   "outputs": [],
   "source": [
    "para=\"\"\"One day, a poor boy who was selling goods from door to door to pay his way through school, found he had only one thin dime left, and he was hungry.\n",
    "\n",
    "He decided he would ask for a meal at the next house. However, he lost his nerve when a lovely young woman opened the door. Instead of a meal he asked for a drink of water. She thought he looked hungry so brought him a large glass of milk. He drank it slowly, and then asked, “How much do I owe you?”\n",
    "\n",
    "“You don’t owe me anything,” she replied “Mother has taught us never to accept payment for a kindness.” He said… “Then I thank you from my heart.” His name was Howard Kelly.\n",
    "\n",
    "As Howard Kelly left that house, he not only felt; stronger physically, but his faith in God and man was strong also. He had been ready to give up and quit.\n",
    "\n",
    "Years later that young woman became critically ill. The local doctors were baffled. They finally sent her to the big city, where they called in specialists to study her rare disease. Dr. Howard Kelly was called in for the consultation. When he heard the name of the town she came from, a strange light filled his eyes.\n",
    "\n",
    "Immediately he rose and went down the hall of the hospital to her room. Dressed in his doctor’s gown he we nt in to see her. He recognized her at once. He went back to the consultation room determined to do his best to save her life. From that day he gave special attention to the case.\n",
    "\n",
    "After a long struggle, the battle was won. Dr. Kelly requested the business office to pass the final bill to him for approval. He looked at it, then wrote something on the edge and the bill was sent to her room.\"\"\""
   ]
  },
  {
   "cell_type": "markdown",
   "metadata": {},
   "source": [
    "# Stemming"
   ]
  },
  {
   "cell_type": "code",
   "execution_count": 4,
   "metadata": {},
   "outputs": [],
   "source": [
    "from nltk.stem.porter import PorterStemmer\n"
   ]
  },
  {
   "cell_type": "code",
   "execution_count": 5,
   "metadata": {},
   "outputs": [],
   "source": [
    "sentence=nltk.sent_tokenize(para)"
   ]
  },
  {
   "cell_type": "code",
   "execution_count": 6,
   "metadata": {},
   "outputs": [
    {
     "data": {
      "text/plain": [
       "['One day, a poor boy who was selling goods from door to door to pay his way through school, found he had only one thin dime left, and he was hungry.',\n",
       " 'He decided he would ask for a meal at the next house.',\n",
       " 'However, he lost his nerve when a lovely young woman opened the door.',\n",
       " 'Instead of a meal he asked for a drink of water.',\n",
       " 'She thought he looked hungry so brought him a large glass of milk.',\n",
       " 'He drank it slowly, and then asked, “How much do I owe you?”\\n\\n“You don’t owe me anything,” she replied “Mother has taught us never to accept payment for a kindness.” He said… “Then I thank you from my heart.” His name was Howard Kelly.',\n",
       " 'As Howard Kelly left that house, he not only felt; stronger physically, but his faith in God and man was strong also.',\n",
       " 'He had been ready to give up and quit.',\n",
       " 'Years later that young woman became critically ill.',\n",
       " 'The local doctors were baffled.',\n",
       " 'They finally sent her to the big city, where they called in specialists to study her rare disease.',\n",
       " 'Dr. Howard Kelly was called in for the consultation.',\n",
       " 'When he heard the name of the town she came from, a strange light filled his eyes.',\n",
       " 'Immediately he rose and went down the hall of the hospital to her room.',\n",
       " 'Dressed in his doctor’s gown he we nt in to see her.',\n",
       " 'He recognized her at once.',\n",
       " 'He went back to the consultation room determined to do his best to save her life.',\n",
       " 'From that day he gave special attention to the case.',\n",
       " 'After a long struggle, the battle was won.',\n",
       " 'Dr. Kelly requested the business office to pass the final bill to him for approval.',\n",
       " 'He looked at it, then wrote something on the edge and the bill was sent to her room.']"
      ]
     },
     "execution_count": 6,
     "metadata": {},
     "output_type": "execute_result"
    }
   ],
   "source": [
    "sentence"
   ]
  },
  {
   "cell_type": "code",
   "execution_count": 8,
   "metadata": {},
   "outputs": [],
   "source": [
    "from nltk.corpus import stopwords"
   ]
  },
  {
   "cell_type": "code",
   "execution_count": 14,
   "metadata": {},
   "outputs": [],
   "source": [
    "ps=PorterStemmer()\n",
    "\n",
    "corpus=[]\n",
    "\n",
    "for i in range(len(sentence)):\n",
    "    words=nltk.word_tokenize(para)\n",
    "    words=[ps.stem(word) for word in words if word not in set(stopwords.words('english'))]\n",
    "    words=' '.join(words)\n",
    "    corpus.append(words)"
   ]
  },
  {
   "cell_type": "code",
   "execution_count": 15,
   "metadata": {},
   "outputs": [
    {
     "data": {
      "text/plain": [
       "'one day , poor boy sell good door door pay way school , found one thin dime left , hungri . He decid would ask meal next hous . howev , lost nerv love young woman open door . instead meal ask drink water . she thought look hungri brought larg glass milk . He drank slowli , ask , “ how much I owe ? ” “ you ’ owe anyth , ” repli “ mother taught us never accept payment kindness. ” He said… “ then I thank heart. ” hi name howard kelli . As howard kelli left hous , felt ; stronger physic , faith god man strong also . He readi give quit . year later young woman becam critic ill . the local doctor baffl . they final sent big citi , call specialist studi rare diseas . dr. howard kelli call consult . when heard name town came , strang light fill eye . immedi rose went hall hospit room . dress doctor ’ gown nt see . He recogn . He went back consult room determin best save life . from day gave special attent case . after long struggl , battl . dr. kelli request busi offic pass final bill approv . He look , wrote someth edg bill sent room .'"
      ]
     },
     "execution_count": 15,
     "metadata": {},
     "output_type": "execute_result"
    }
   ],
   "source": [
    "words"
   ]
  },
  {
   "cell_type": "markdown",
   "metadata": {},
   "source": [
    "# Lammetizing"
   ]
  },
  {
   "cell_type": "code",
   "execution_count": 16,
   "metadata": {},
   "outputs": [],
   "source": [
    "from nltk.stem import WordNetLemmatizer\n",
    "lem=WordNetLemmatizer()\n",
    "\n",
    "\n",
    "for i in range(len(sentence)):\n",
    "    words=nltk.word_tokenize(para)\n",
    "    words=[lem.lemmatize(word) for word in words if word not in set(stopwords.words('english'))]\n",
    "    words=' '.join(words)"
   ]
  },
  {
   "cell_type": "code",
   "execution_count": 17,
   "metadata": {},
   "outputs": [
    {
     "data": {
      "text/plain": [
       "'One day , poor boy selling good door door pay way school , found one thin dime left , hungry . He decided would ask meal next house . However , lost nerve lovely young woman opened door . Instead meal asked drink water . She thought looked hungry brought large glass milk . He drank slowly , asked , “ How much I owe ? ” “ You ’ owe anything , ” replied “ Mother taught u never accept payment kindness. ” He said… “ Then I thank heart. ” His name Howard Kelly . As Howard Kelly left house , felt ; stronger physically , faith God man strong also . He ready give quit . Years later young woman became critically ill . The local doctor baffled . They finally sent big city , called specialist study rare disease . Dr. Howard Kelly called consultation . When heard name town came , strange light filled eye . Immediately rose went hall hospital room . Dressed doctor ’ gown nt see . He recognized . He went back consultation room determined best save life . From day gave special attention case . After long struggle , battle . Dr. Kelly requested business office pas final bill approval . He looked , wrote something edge bill sent room .'"
      ]
     },
     "execution_count": 17,
     "metadata": {},
     "output_type": "execute_result"
    }
   ],
   "source": [
    "words"
   ]
  },
  {
   "cell_type": "code",
   "execution_count": null,
   "metadata": {},
   "outputs": [],
   "source": []
  }
 ],
 "metadata": {
  "kernelspec": {
   "display_name": "Python 3",
   "language": "python",
   "name": "python3"
  },
  "language_info": {
   "codemirror_mode": {
    "name": "ipython",
    "version": 3
   },
   "file_extension": ".py",
   "mimetype": "text/x-python",
   "name": "python",
   "nbconvert_exporter": "python",
   "pygments_lexer": "ipython3",
   "version": "3.6.5"
  }
 },
 "nbformat": 4,
 "nbformat_minor": 2
}
