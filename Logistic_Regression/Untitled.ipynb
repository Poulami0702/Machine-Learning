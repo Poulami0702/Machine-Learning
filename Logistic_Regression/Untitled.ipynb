{
 "cells": [
  {
   "cell_type": "code",
   "execution_count": 1,
   "metadata": {},
   "outputs": [
    {
     "data": {
      "text/html": [
       "<div>\n",
       "<style scoped>\n",
       "    .dataframe tbody tr th:only-of-type {\n",
       "        vertical-align: middle;\n",
       "    }\n",
       "\n",
       "    .dataframe tbody tr th {\n",
       "        vertical-align: top;\n",
       "    }\n",
       "\n",
       "    .dataframe thead th {\n",
       "        text-align: right;\n",
       "    }\n",
       "</style>\n",
       "<table border=\"1\" class=\"dataframe\">\n",
       "  <thead>\n",
       "    <tr style=\"text-align: right;\">\n",
       "      <th></th>\n",
       "      <th>Subscription</th>\n",
       "      <th>Age</th>\n",
       "      <th>Salary</th>\n",
       "    </tr>\n",
       "  </thead>\n",
       "  <tbody>\n",
       "    <tr>\n",
       "      <th>0</th>\n",
       "      <td>0</td>\n",
       "      <td>25</td>\n",
       "      <td>132</td>\n",
       "    </tr>\n",
       "    <tr>\n",
       "      <th>1</th>\n",
       "      <td>0</td>\n",
       "      <td>64</td>\n",
       "      <td>84</td>\n",
       "    </tr>\n",
       "    <tr>\n",
       "      <th>2</th>\n",
       "      <td>0</td>\n",
       "      <td>31</td>\n",
       "      <td>100</td>\n",
       "    </tr>\n",
       "  </tbody>\n",
       "</table>\n",
       "</div>"
      ],
      "text/plain": [
       "   Subscription  Age  Salary\n",
       "0             0   25     132\n",
       "1             0   64      84\n",
       "2             0   31     100"
      ]
     },
     "execution_count": 1,
     "metadata": {},
     "output_type": "execute_result"
    }
   ],
   "source": [
    "import pandas as pd\n",
    "df=pd.read_csv('C:\\\\Users\\\\nEW u\\\\Downloads\\\\Example_1_Logistic_Regression.csv')\n",
    "df.head(3)"
   ]
  },
  {
   "cell_type": "code",
   "execution_count": 2,
   "metadata": {},
   "outputs": [
    {
     "name": "stdout",
     "output_type": "stream",
     "text": [
      "<class 'pandas.core.frame.DataFrame'>\n",
      "RangeIndex: 407 entries, 0 to 406\n",
      "Data columns (total 3 columns):\n",
      "Subscription    407 non-null int64\n",
      "Age             407 non-null int64\n",
      "Salary          407 non-null int64\n",
      "dtypes: int64(3)\n",
      "memory usage: 9.6 KB\n"
     ]
    }
   ],
   "source": [
    "df.info()"
   ]
  },
  {
   "cell_type": "code",
   "execution_count": 3,
   "metadata": {},
   "outputs": [
    {
     "data": {
      "text/html": [
       "<div>\n",
       "<style scoped>\n",
       "    .dataframe tbody tr th:only-of-type {\n",
       "        vertical-align: middle;\n",
       "    }\n",
       "\n",
       "    .dataframe tbody tr th {\n",
       "        vertical-align: top;\n",
       "    }\n",
       "\n",
       "    .dataframe thead th {\n",
       "        text-align: right;\n",
       "    }\n",
       "</style>\n",
       "<table border=\"1\" class=\"dataframe\">\n",
       "  <thead>\n",
       "    <tr style=\"text-align: right;\">\n",
       "      <th></th>\n",
       "      <th>Subscription</th>\n",
       "      <th>Age</th>\n",
       "      <th>Salary</th>\n",
       "    </tr>\n",
       "  </thead>\n",
       "  <tbody>\n",
       "    <tr>\n",
       "      <th>count</th>\n",
       "      <td>407.000000</td>\n",
       "      <td>407.000000</td>\n",
       "      <td>407.000000</td>\n",
       "    </tr>\n",
       "    <tr>\n",
       "      <th>mean</th>\n",
       "      <td>0.420147</td>\n",
       "      <td>50.363636</td>\n",
       "      <td>107.756757</td>\n",
       "    </tr>\n",
       "    <tr>\n",
       "      <th>std</th>\n",
       "      <td>0.494190</td>\n",
       "      <td>15.016918</td>\n",
       "      <td>36.793557</td>\n",
       "    </tr>\n",
       "    <tr>\n",
       "      <th>min</th>\n",
       "      <td>0.000000</td>\n",
       "      <td>25.000000</td>\n",
       "      <td>50.000000</td>\n",
       "    </tr>\n",
       "    <tr>\n",
       "      <th>25%</th>\n",
       "      <td>0.000000</td>\n",
       "      <td>37.500000</td>\n",
       "      <td>76.000000</td>\n",
       "    </tr>\n",
       "    <tr>\n",
       "      <th>50%</th>\n",
       "      <td>0.000000</td>\n",
       "      <td>51.000000</td>\n",
       "      <td>107.000000</td>\n",
       "    </tr>\n",
       "    <tr>\n",
       "      <th>75%</th>\n",
       "      <td>1.000000</td>\n",
       "      <td>64.000000</td>\n",
       "      <td>135.000000</td>\n",
       "    </tr>\n",
       "    <tr>\n",
       "      <th>max</th>\n",
       "      <td>1.000000</td>\n",
       "      <td>75.000000</td>\n",
       "      <td>200.000000</td>\n",
       "    </tr>\n",
       "  </tbody>\n",
       "</table>\n",
       "</div>"
      ],
      "text/plain": [
       "       Subscription         Age      Salary\n",
       "count    407.000000  407.000000  407.000000\n",
       "mean       0.420147   50.363636  107.756757\n",
       "std        0.494190   15.016918   36.793557\n",
       "min        0.000000   25.000000   50.000000\n",
       "25%        0.000000   37.500000   76.000000\n",
       "50%        0.000000   51.000000  107.000000\n",
       "75%        1.000000   64.000000  135.000000\n",
       "max        1.000000   75.000000  200.000000"
      ]
     },
     "execution_count": 3,
     "metadata": {},
     "output_type": "execute_result"
    }
   ],
   "source": [
    "df.describe()"
   ]
  },
  {
   "cell_type": "code",
   "execution_count": 5,
   "metadata": {},
   "outputs": [
    {
     "data": {
      "text/plain": [
       "(407, 3)"
      ]
     },
     "execution_count": 5,
     "metadata": {},
     "output_type": "execute_result"
    }
   ],
   "source": [
    "df.shape\n"
   ]
  },
  {
   "cell_type": "code",
   "execution_count": 6,
   "metadata": {},
   "outputs": [
    {
     "data": {
      "text/plain": [
       "Index(['Subscription', 'Age', 'Salary'], dtype='object')"
      ]
     },
     "execution_count": 6,
     "metadata": {},
     "output_type": "execute_result"
    }
   ],
   "source": [
    "df.columns"
   ]
  },
  {
   "cell_type": "code",
   "execution_count": 8,
   "metadata": {},
   "outputs": [],
   "source": [
    "x=df.drop(['Subscription'], axis='columns')\n",
    "y=df.Subscription"
   ]
  },
  {
   "cell_type": "code",
   "execution_count": 9,
   "metadata": {},
   "outputs": [
    {
     "data": {
      "text/html": [
       "<div>\n",
       "<style scoped>\n",
       "    .dataframe tbody tr th:only-of-type {\n",
       "        vertical-align: middle;\n",
       "    }\n",
       "\n",
       "    .dataframe tbody tr th {\n",
       "        vertical-align: top;\n",
       "    }\n",
       "\n",
       "    .dataframe thead th {\n",
       "        text-align: right;\n",
       "    }\n",
       "</style>\n",
       "<table border=\"1\" class=\"dataframe\">\n",
       "  <thead>\n",
       "    <tr style=\"text-align: right;\">\n",
       "      <th></th>\n",
       "      <th>Age</th>\n",
       "      <th>Salary</th>\n",
       "    </tr>\n",
       "  </thead>\n",
       "  <tbody>\n",
       "    <tr>\n",
       "      <th>0</th>\n",
       "      <td>25</td>\n",
       "      <td>132</td>\n",
       "    </tr>\n",
       "    <tr>\n",
       "      <th>1</th>\n",
       "      <td>64</td>\n",
       "      <td>84</td>\n",
       "    </tr>\n",
       "    <tr>\n",
       "      <th>2</th>\n",
       "      <td>31</td>\n",
       "      <td>100</td>\n",
       "    </tr>\n",
       "  </tbody>\n",
       "</table>\n",
       "</div>"
      ],
      "text/plain": [
       "   Age  Salary\n",
       "0   25     132\n",
       "1   64      84\n",
       "2   31     100"
      ]
     },
     "execution_count": 9,
     "metadata": {},
     "output_type": "execute_result"
    }
   ],
   "source": [
    "x.head(3)"
   ]
  },
  {
   "cell_type": "code",
   "execution_count": 125,
   "metadata": {},
   "outputs": [],
   "source": [
    "from sklearn.model_selection import train_test_split\n",
    "X_train, X_test, y_train, y_test = train_test_split(x,y,test_size=0.20)"
   ]
  },
  {
   "cell_type": "code",
   "execution_count": 126,
   "metadata": {},
   "outputs": [
    {
     "data": {
      "text/plain": [
       "325"
      ]
     },
     "execution_count": 126,
     "metadata": {},
     "output_type": "execute_result"
    }
   ],
   "source": [
    "len(X_train)"
   ]
  },
  {
   "cell_type": "code",
   "execution_count": 127,
   "metadata": {},
   "outputs": [
    {
     "data": {
      "text/plain": [
       "82"
      ]
     },
     "execution_count": 127,
     "metadata": {},
     "output_type": "execute_result"
    }
   ],
   "source": [
    "len(X_test)"
   ]
  },
  {
   "cell_type": "code",
   "execution_count": 128,
   "metadata": {},
   "outputs": [],
   "source": [
    "from sklearn.linear_model import LogisticRegression"
   ]
  },
  {
   "cell_type": "code",
   "execution_count": 129,
   "metadata": {},
   "outputs": [
    {
     "data": {
      "text/plain": [
       "LogisticRegression(C=1.0, class_weight=None, dual=False, fit_intercept=True,\n",
       "          intercept_scaling=1, max_iter=100, multi_class='ovr', n_jobs=1,\n",
       "          penalty='l2', random_state=None, solver='liblinear', tol=0.0001,\n",
       "          verbose=0, warm_start=False)"
      ]
     },
     "execution_count": 129,
     "metadata": {},
     "output_type": "execute_result"
    }
   ],
   "source": [
    "model=LogisticRegression()\n",
    "model.fit(X_train,y_train)"
   ]
  },
  {
   "cell_type": "code",
   "execution_count": 130,
   "metadata": {},
   "outputs": [
    {
     "data": {
      "text/plain": [
       "0.7439024390243902"
      ]
     },
     "execution_count": 130,
     "metadata": {},
     "output_type": "execute_result"
    }
   ],
   "source": [
    "model.score(X_test,y_test)"
   ]
  },
  {
   "cell_type": "code",
   "execution_count": 131,
   "metadata": {},
   "outputs": [],
   "source": [
    "#model1=LogisticRegression(C=205)\n",
    "#model1.fit(X_train,y_train)\n",
    "#model1.score(X_test,y_test)"
   ]
  },
  {
   "cell_type": "code",
   "execution_count": 132,
   "metadata": {},
   "outputs": [
    {
     "data": {
      "text/plain": [
       "array([[41, 12],\n",
       "       [ 9, 20]], dtype=int64)"
      ]
     },
     "execution_count": 132,
     "metadata": {},
     "output_type": "execute_result"
    }
   ],
   "source": [
    "y_pred=model.predict(X_test)\n",
    "from sklearn.metrics import confusion_matrix\n",
    "cm=confusion_matrix(y_pred,y_test)\n",
    "cm"
   ]
  },
  {
   "cell_type": "code",
   "execution_count": 137,
   "metadata": {},
   "outputs": [
    {
     "data": {
      "text/plain": [
       "Text(33,0.5,'True')"
      ]
     },
     "execution_count": 137,
     "metadata": {},
     "output_type": "execute_result"
    },
    {
     "data": {
      "image/png": "[encoded data removed]",
      "text/plain": [
       "<Figure size 432x288 with 2 Axes>"
      ]
     },
     "metadata": {},
     "output_type": "display_data"
    }
   ],
   "source": [
    "import seaborn as sns\n",
    "from matplotlib import pyplot as plt\n",
    "%matplotlib inline\n",
    "\n",
    "sns.heatmap(cm,annot=True)\n",
    "plt.xlabel('Predict')\n",
    "plt.ylabel('True')"
   ]
  },
  {
   "cell_type": "code",
   "execution_count": 134,
   "metadata": {},
   "outputs": [
    {
     "data": {
      "text/plain": [
       "array([-2.30677304])"
      ]
     },
     "execution_count": 134,
     "metadata": {},
     "output_type": "execute_result"
    }
   ],
   "source": [
    "model.intercept_"
   ]
  },
  {
   "cell_type": "code",
   "execution_count": 135,
   "metadata": {},
   "outputs": [
    {
     "data": {
      "text/plain": [
       "array([[0.01674114, 0.01105989]])"
      ]
     },
     "execution_count": 135,
     "metadata": {},
     "output_type": "execute_result"
    }
   ],
   "source": [
    "model.coef_"
   ]
  },
  {
   "cell_type": "code",
   "execution_count": 136,
   "metadata": {},
   "outputs": [
    {
     "data": {
      "text/plain": [
       "array([[0.46254427, 0.53745573],\n",
       "       [0.60560519, 0.39439481],\n",
       "       [0.42916869, 0.57083131],\n",
       "       [0.4797387 , 0.5202613 ],\n",
       "       [0.67811921, 0.32188079],\n",
       "       [0.5030407 , 0.4969593 ],\n",
       "       [0.58115611, 0.41884389],\n",
       "       [0.71929343, 0.28070657],\n",
       "       [0.28450037, 0.71549963],\n",
       "       [0.54603188, 0.45396812],\n",
       "       [0.58805421, 0.41194579],\n",
       "       [0.48997374, 0.51002626],\n",
       "       [0.68351767, 0.31648233],\n",
       "       [0.42770337, 0.57229663],\n",
       "       [0.61427449, 0.38572551],\n",
       "       [0.67248789, 0.32751211],\n",
       "       [0.46997289, 0.53002711],\n",
       "       [0.41844   , 0.58156   ],\n",
       "       [0.4894444 , 0.5105556 ],\n",
       "       [0.44506475, 0.55493525],\n",
       "       [0.57781401, 0.42218599],\n",
       "       [0.59224979, 0.40775021],\n",
       "       [0.53148094, 0.46851906],\n",
       "       [0.57233485, 0.42766515],\n",
       "       [0.69510048, 0.30489952],\n",
       "       [0.39807521, 0.60192479],\n",
       "       [0.47065136, 0.52934864],\n",
       "       [0.48787359, 0.51212641],\n",
       "       [0.67195447, 0.32804553],\n",
       "       [0.7000859 , 0.2999141 ],\n",
       "       [0.63232363, 0.36767637],\n",
       "       [0.70321035, 0.29678965],\n",
       "       [0.61434618, 0.38565382],\n",
       "       [0.70872981, 0.29127019],\n",
       "       [0.58551929, 0.41448071],\n",
       "       [0.58174527, 0.41825473],\n",
       "       [0.62141012, 0.37858988],\n",
       "       [0.60424743, 0.39575257],\n",
       "       [0.66547566, 0.33452434],\n",
       "       [0.48467421, 0.51532579],\n",
       "       [0.59043812, 0.40956188],\n",
       "       [0.46216815, 0.53783185],\n",
       "       [0.70221314, 0.29778686],\n",
       "       [0.55837537, 0.44162463],\n",
       "       [0.5838458 , 0.4161542 ],\n",
       "       [0.56795205, 0.43204795],\n",
       "       [0.39671471, 0.60328529],\n",
       "       [0.61612086, 0.38387914],\n",
       "       [0.6709014 , 0.3290986 ],\n",
       "       [0.76689594, 0.23310406],\n",
       "       [0.71008813, 0.28991187],\n",
       "       [0.629678  , 0.370322  ],\n",
       "       [0.52202011, 0.47797989],\n",
       "       [0.49900676, 0.50099324],\n",
       "       [0.44948582, 0.55051418],\n",
       "       [0.47975575, 0.52024425],\n",
       "       [0.43753894, 0.56246106],\n",
       "       [0.46179208, 0.53820792],\n",
       "       [0.50110793, 0.49889207],\n",
       "       [0.49504859, 0.50495141],\n",
       "       [0.76785608, 0.23214392],\n",
       "       [0.74095789, 0.25904211],\n",
       "       [0.41547365, 0.58452635],\n",
       "       [0.50065402, 0.49934598],\n",
       "       [0.67922617, 0.32077383],\n",
       "       [0.52612019, 0.47387981],\n",
       "       [0.35188723, 0.64811277],\n",
       "       [0.64549919, 0.35450081],\n",
       "       [0.59455321, 0.40544679],\n",
       "       [0.53542153, 0.46457847],\n",
       "       [0.49968762, 0.50031238],\n",
       "       [0.4940823 , 0.5059177 ],\n",
       "       [0.52045133, 0.47954867],\n",
       "       [0.54003428, 0.45996572],\n",
       "       [0.5377372 , 0.4622628 ],\n",
       "       [0.45134161, 0.54865839],\n",
       "       [0.48191233, 0.51808767],\n",
       "       [0.72481202, 0.27518798],\n",
       "       [0.59455321, 0.40544679],\n",
       "       [0.66360203, 0.33639797],\n",
       "       [0.72944097, 0.27055903],\n",
       "       [0.4619425 , 0.5380575 ]])"
      ]
     },
     "execution_count": 136,
     "metadata": {},
     "output_type": "execute_result"
    }
   ],
   "source": [
    "model.predict_proba(X_test)"
   ]
  },
  {
   "cell_type": "code",
   "execution_count": null,
   "metadata": {},
   "outputs": [],
   "source": []
  },
  {
   "cell_type": "code",
   "execution_count": null,
   "metadata": {},
   "outputs": [],
   "source": []
  }
 ],
 "metadata": {
  "kernelspec": {
   "display_name": "Python 3",
   "language": "python",
   "name": "python3"
  },
  "language_info": {
   "codemirror_mode": {
    "name": "ipython",
    "version": 3
   },
   "file_extension": ".py",
   "mimetype": "text/x-python",
   "name": "python",
   "nbconvert_exporter": "python",
   "pygments_lexer": "ipython3",
   "version": "3.6.5"
  }
 },
 "nbformat": 4,
 "nbformat_minor": 2
}
